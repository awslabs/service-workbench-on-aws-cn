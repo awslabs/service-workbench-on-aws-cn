{
 "cells": [
  {
   "cell_type": "markdown",
   "id": "d8389915",
   "metadata": {},
   "source": [
    "## 朝阳医院2018年销售数据分析报告\n",
    "\n",
    "#### 数据分析的基本过程分为：提出问题、理解数据、数据清洗、构建模型、数据可视化。\n",
    "\n",
    "（1）提出问题：明确分析的目的；\n",
    "\n",
    "（2）理解数据：主要从数据的采集、导入、查看数据的描述统计信息等方面对数据有基本了解；\n",
    "\n",
    "（3）数据清洗：主要有6个步骤：选择子集、列名重命名、缺失数据处理、数据类型转换、数据排序、异常值处理；\n",
    "\n",
    "（4）构建模型：\n",
    "\n",
    "（5）数据可视化：\n",
    "\n",
    "接下来我们以朝阳医院2018年的销售数据作为样本，进行简单的数据分析。\n",
    "\n",
    "### 一、提出问题：\n",
    "\n",
    "拿到这组数据，首先我们要明确分析的目的，我们是想知道以下数据：客户的月均消费次数；客户的月均消费金额；客单价；客户的消费趋势。\n",
    "\n",
    "\n",
    "### 二、理解数据，对数据有大体认知\n",
    "\n",
    "首先导入会用到的库。"
   ]
  },
  {
   "cell_type": "code",
   "execution_count": 1,
   "id": "73ed8298",
   "metadata": {},
   "outputs": [],
   "source": [
    "import pandas as pd\n",
    "import matplotlib.pyplot as plt"
   ]
  },
  {
   "cell_type": "markdown",
   "id": "1318ba7c",
   "metadata": {},
   "source": [
    "然后载入数据。首次读取excel文件，需要安装xlrd库。\n",
    "\n",
    "在pandas中，常用的载入函数是read_csv、read_excel和read_table，table可以读取txt。若是服务器相关的部署，则还会用到read_sql，直接访问数据库，但它必须配合mysql相关包。\n",
    "\n",
    "安装中文支持库，在后期图标绘制过程以支持中文。"
   ]
  },
  {
   "cell_type": "code",
   "execution_count": 2,
   "id": "ce78ddd0",
   "metadata": {},
   "outputs": [
    {
     "name": "stdout",
     "output_type": "stream",
     "text": [
      "Loaded plugins: dkms-build-requires, extras_suggestions, langpacks, priorities,\n",
      "              : update-motd, versionlock\n",
      "Package ghostscript-chinese-zh_CN-0.4.0-4.amzn2.noarch already installed and latest version\n",
      "Nothing to do\n",
      "/usr/share/fonts/wqy-zenhei/wqy-zenhei.ttc: WenQuanYi Zen Hei Sharp,文泉驛點陣正黑,文泉驿点阵正黑:style=Regular\n",
      "/usr/share/fonts/wqy-zenhei/wqy-zenhei.ttc: WenQuanYi Zen Hei Mono,文泉驛等寬正黑,文泉驿等宽正黑:style=Regular\n",
      "/usr/share/fonts/wqy-zenhei/wqy-zenhei.ttc: WenQuanYi Zen Hei,文泉驛正黑,文泉驿正黑:style=Regular\n"
     ]
    }
   ],
   "source": [
    "%%bash\n",
    "#安装中文字体\n",
    "sudo yum install -y ghostscript-chinese-zh_CN\n",
    "fc-list :lang=zh"
   ]
  },
  {
   "cell_type": "markdown",
   "id": "00cd5214",
   "metadata": {},
   "source": [
    "安装后查看可用的字体。"
   ]
  },
  {
   "cell_type": "code",
   "execution_count": 3,
   "id": "f88bc521",
   "metadata": {},
   "outputs": [
    {
     "name": "stdout",
     "output_type": "stream",
     "text": [
      "all font list get from matplotlib.font_manager:\n",
      "\tC059\n",
      "\tD050000L\n",
      "\tDejaVu Sans\n",
      "\tDejaVu Sans Display\n",
      "\tDejaVu Sans Mono\n",
      "\tDejaVu Serif\n",
      "\tDejaVu Serif Display\n",
      "\tInconsolata\n",
      "\tNimbus Mono PS\n",
      "\tNimbus Roman\n",
      "\tNimbus Sans\n",
      "\tNimbus Sans Narrow\n",
      "\tP052\n",
      "\tSTIXGeneral\n",
      "\tSTIXNonUnicode\n",
      "\tSTIXSizeFiveSym\n",
      "\tSTIXSizeFourSym\n",
      "\tSTIXSizeOneSym\n",
      "\tSTIXSizeThreeSym\n",
      "\tSTIXSizeTwoSym\n",
      "\tSource Code Pro\n",
      "\tURW Bookman\n",
      "\tURW Gothic\n",
      "\tUbuntu\n",
      "\tUbuntu Condensed\n",
      "\tUbuntu Mono\n",
      "\tWenQuanYi Zen Hei\n",
      "\tZ003\n",
      "\tcmb10\n",
      "\tcmex10\n",
      "\tcmmi10\n",
      "\tcmr10\n",
      "\tcmss10\n",
      "\tcmsy10\n",
      "\tcmtt10\n"
     ]
    }
   ],
   "source": [
    "#查看可用字体\n",
    "\n",
    "from matplotlib.font_manager import FontManager\n",
    "import subprocess\n",
    "\n",
    "mpl_fonts = set(f.name for f in FontManager().ttflist)\n",
    "\n",
    "print('all font list get from matplotlib.font_manager:')\n",
    "for f in sorted(mpl_fonts):\n",
    "    print('\\t' + f)"
   ]
  },
  {
   "cell_type": "markdown",
   "id": "8048f8f3",
   "metadata": {},
   "source": [
    "修改字体为WenQuanYi Zen Hei。"
   ]
  },
  {
   "cell_type": "code",
   "execution_count": 4,
   "id": "ecbeaa08",
   "metadata": {},
   "outputs": [],
   "source": [
    "#修改字体\n",
    "plt.rcParams['font.family'] = ['WenQuanYi Zen Hei']  # 用来正常显示中文标签\n",
    "plt.rcParams['axes.unicode_minus'] = False  # 用来正常显示负号"
   ]
  },
  {
   "cell_type": "code",
   "execution_count": 5,
   "id": "9016b8bf",
   "metadata": {},
   "outputs": [],
   "source": [
    "sales=pd.read_excel('./data-set.xlsx',dtype='object')"
   ]
  },
  {
   "cell_type": "markdown",
   "id": "a7ba4165",
   "metadata": {},
   "source": [
    "接下来查看数据概览。以下代码列出了数据的各个字段名，共6577行，7列，6577 non-null 说明各字段没有空值,\"社保账号\"和\"购药时间\"有1个空值,object说明类型均为object。"
   ]
  },
  {
   "cell_type": "code",
   "execution_count": 6,
   "id": "cd774491",
   "metadata": {},
   "outputs": [
    {
     "name": "stdout",
     "output_type": "stream",
     "text": [
      "<class 'pandas.core.frame.DataFrame'>\n",
      "RangeIndex: 6578 entries, 0 to 6577\n",
      "Data columns (total 7 columns):\n",
      " #   Column  Non-Null Count  Dtype \n",
      "---  ------  --------------  ----- \n",
      " 0   购药时间    6576 non-null   object\n",
      " 1   社保卡号    6576 non-null   object\n",
      " 2   商品编码    6577 non-null   object\n",
      " 3   商品名称    6577 non-null   object\n",
      " 4   销售数量    6577 non-null   object\n",
      " 5   应收金额    6577 non-null   object\n",
      " 6   实收金额    6577 non-null   object\n",
      "dtypes: object(7)\n",
      "memory usage: 359.9+ KB\n",
      "None\n"
     ]
    }
   ],
   "source": [
    "print(sales.info())"
   ]
  },
  {
   "cell_type": "markdown",
   "id": "6d52c48d",
   "metadata": {},
   "source": [
    "若需要查看文件有多少行多少列，可用以下代码："
   ]
  },
  {
   "cell_type": "code",
   "execution_count": 7,
   "id": "48b85518",
   "metadata": {},
   "outputs": [
    {
     "name": "stdout",
     "output_type": "stream",
     "text": [
      "(6578, 7)\n"
     ]
    }
   ],
   "source": [
    "print(sales.shape)"
   ]
  },
  {
   "cell_type": "markdown",
   "id": "f20b0bc7",
   "metadata": {},
   "source": [
    "查看文件的部分数据，用head函数显示头部数据，默认5行，可自由设置参数。如果是尾部数据，可用tail函数。"
   ]
  },
  {
   "cell_type": "code",
   "execution_count": 8,
   "id": "0c30e1ed",
   "metadata": {},
   "outputs": [
    {
     "data": {
      "text/html": [
       "<div>\n",
       "<style scoped>\n",
       "    .dataframe tbody tr th:only-of-type {\n",
       "        vertical-align: middle;\n",
       "    }\n",
       "\n",
       "    .dataframe tbody tr th {\n",
       "        vertical-align: top;\n",
       "    }\n",
       "\n",
       "    .dataframe thead th {\n",
       "        text-align: right;\n",
       "    }\n",
       "</style>\n",
       "<table border=\"1\" class=\"dataframe\">\n",
       "  <thead>\n",
       "    <tr style=\"text-align: right;\">\n",
       "      <th></th>\n",
       "      <th>购药时间</th>\n",
       "      <th>社保卡号</th>\n",
       "      <th>商品编码</th>\n",
       "      <th>商品名称</th>\n",
       "      <th>销售数量</th>\n",
       "      <th>应收金额</th>\n",
       "      <th>实收金额</th>\n",
       "    </tr>\n",
       "  </thead>\n",
       "  <tbody>\n",
       "    <tr>\n",
       "      <th>0</th>\n",
       "      <td>2018-01-01 星期五</td>\n",
       "      <td>001616528</td>\n",
       "      <td>236701</td>\n",
       "      <td>强力VC银翘片</td>\n",
       "      <td>6</td>\n",
       "      <td>82.8</td>\n",
       "      <td>69</td>\n",
       "    </tr>\n",
       "    <tr>\n",
       "      <th>1</th>\n",
       "      <td>2018-01-02 星期六</td>\n",
       "      <td>001616528</td>\n",
       "      <td>236701</td>\n",
       "      <td>清热解毒口服液</td>\n",
       "      <td>1</td>\n",
       "      <td>28</td>\n",
       "      <td>24.64</td>\n",
       "    </tr>\n",
       "    <tr>\n",
       "      <th>2</th>\n",
       "      <td>2018-01-06 星期三</td>\n",
       "      <td>0012602828</td>\n",
       "      <td>236701</td>\n",
       "      <td>感康</td>\n",
       "      <td>2</td>\n",
       "      <td>16.8</td>\n",
       "      <td>15</td>\n",
       "    </tr>\n",
       "    <tr>\n",
       "      <th>3</th>\n",
       "      <td>2018-01-11 星期一</td>\n",
       "      <td>0010070343428</td>\n",
       "      <td>236701</td>\n",
       "      <td>三九感冒灵</td>\n",
       "      <td>1</td>\n",
       "      <td>28</td>\n",
       "      <td>28</td>\n",
       "    </tr>\n",
       "    <tr>\n",
       "      <th>4</th>\n",
       "      <td>2018-01-15 星期五</td>\n",
       "      <td>00101554328</td>\n",
       "      <td>236701</td>\n",
       "      <td>三九感冒灵</td>\n",
       "      <td>8</td>\n",
       "      <td>224</td>\n",
       "      <td>208</td>\n",
       "    </tr>\n",
       "  </tbody>\n",
       "</table>\n",
       "</div>"
      ],
      "text/plain": [
       "             购药时间           社保卡号    商品编码     商品名称 销售数量  应收金额   实收金额\n",
       "0  2018-01-01 星期五      001616528  236701  强力VC银翘片    6  82.8     69\n",
       "1  2018-01-02 星期六      001616528  236701  清热解毒口服液    1    28  24.64\n",
       "2  2018-01-06 星期三     0012602828  236701       感康    2  16.8     15\n",
       "3  2018-01-11 星期一  0010070343428  236701    三九感冒灵    1    28     28\n",
       "4  2018-01-15 星期五    00101554328  236701    三九感冒灵    8   224    208"
      ]
     },
     "execution_count": 8,
     "metadata": {},
     "output_type": "execute_result"
    }
   ],
   "source": [
    "sales.head()"
   ]
  },
  {
   "cell_type": "markdown",
   "id": "18d169cf",
   "metadata": {},
   "source": [
    "### 三、数据清洗\n",
    "（1）选择子集：\n",
    "\n",
    "若数据量较大，且不是每行/列信息都有用，可针对性的选择子集进行分析。可用ix函数， 它通过DataFrame的索引和轴标签选择行或列的子集，代码形式为：\n",
    "\n",
    "```subsales=sales.loc[:,:]```\n",
    "\n",
    "因为数据本身不多，此处不再取子集。"
   ]
  },
  {
   "cell_type": "markdown",
   "id": "dffa4f79",
   "metadata": {},
   "source": [
    "（2）列名重命名\n",
    "\n",
    "将'购药时间'改为’销售时间‘，利用inplace=True可直接在原数据框内改动"
   ]
  },
  {
   "cell_type": "code",
   "execution_count": 9,
   "id": "5b105478",
   "metadata": {},
   "outputs": [],
   "source": [
    "sales.rename(columns={'购药时间':'销售时间'},inplace=True)"
   ]
  },
  {
   "cell_type": "markdown",
   "id": "001470eb",
   "metadata": {},
   "source": [
    "再次显示文件信息，查看是否列名是否已经修改"
   ]
  },
  {
   "cell_type": "code",
   "execution_count": 10,
   "id": "a93aeadd",
   "metadata": {},
   "outputs": [
    {
     "data": {
      "text/html": [
       "<div>\n",
       "<style scoped>\n",
       "    .dataframe tbody tr th:only-of-type {\n",
       "        vertical-align: middle;\n",
       "    }\n",
       "\n",
       "    .dataframe tbody tr th {\n",
       "        vertical-align: top;\n",
       "    }\n",
       "\n",
       "    .dataframe thead th {\n",
       "        text-align: right;\n",
       "    }\n",
       "</style>\n",
       "<table border=\"1\" class=\"dataframe\">\n",
       "  <thead>\n",
       "    <tr style=\"text-align: right;\">\n",
       "      <th></th>\n",
       "      <th>销售时间</th>\n",
       "      <th>社保卡号</th>\n",
       "      <th>商品编码</th>\n",
       "      <th>商品名称</th>\n",
       "      <th>销售数量</th>\n",
       "      <th>应收金额</th>\n",
       "      <th>实收金额</th>\n",
       "    </tr>\n",
       "  </thead>\n",
       "  <tbody>\n",
       "    <tr>\n",
       "      <th>0</th>\n",
       "      <td>2018-01-01 星期五</td>\n",
       "      <td>001616528</td>\n",
       "      <td>236701</td>\n",
       "      <td>强力VC银翘片</td>\n",
       "      <td>6</td>\n",
       "      <td>82.8</td>\n",
       "      <td>69</td>\n",
       "    </tr>\n",
       "    <tr>\n",
       "      <th>1</th>\n",
       "      <td>2018-01-02 星期六</td>\n",
       "      <td>001616528</td>\n",
       "      <td>236701</td>\n",
       "      <td>清热解毒口服液</td>\n",
       "      <td>1</td>\n",
       "      <td>28</td>\n",
       "      <td>24.64</td>\n",
       "    </tr>\n",
       "    <tr>\n",
       "      <th>2</th>\n",
       "      <td>2018-01-06 星期三</td>\n",
       "      <td>0012602828</td>\n",
       "      <td>236701</td>\n",
       "      <td>感康</td>\n",
       "      <td>2</td>\n",
       "      <td>16.8</td>\n",
       "      <td>15</td>\n",
       "    </tr>\n",
       "    <tr>\n",
       "      <th>3</th>\n",
       "      <td>2018-01-11 星期一</td>\n",
       "      <td>0010070343428</td>\n",
       "      <td>236701</td>\n",
       "      <td>三九感冒灵</td>\n",
       "      <td>1</td>\n",
       "      <td>28</td>\n",
       "      <td>28</td>\n",
       "    </tr>\n",
       "    <tr>\n",
       "      <th>4</th>\n",
       "      <td>2018-01-15 星期五</td>\n",
       "      <td>00101554328</td>\n",
       "      <td>236701</td>\n",
       "      <td>三九感冒灵</td>\n",
       "      <td>8</td>\n",
       "      <td>224</td>\n",
       "      <td>208</td>\n",
       "    </tr>\n",
       "  </tbody>\n",
       "</table>\n",
       "</div>"
      ],
      "text/plain": [
       "             销售时间           社保卡号    商品编码     商品名称 销售数量  应收金额   实收金额\n",
       "0  2018-01-01 星期五      001616528  236701  强力VC银翘片    6  82.8     69\n",
       "1  2018-01-02 星期六      001616528  236701  清热解毒口服液    1    28  24.64\n",
       "2  2018-01-06 星期三     0012602828  236701       感康    2  16.8     15\n",
       "3  2018-01-11 星期一  0010070343428  236701    三九感冒灵    1    28     28\n",
       "4  2018-01-15 星期五    00101554328  236701    三九感冒灵    8   224    208"
      ]
     },
     "execution_count": 10,
     "metadata": {},
     "output_type": "execute_result"
    }
   ],
   "source": [
    "sales.head()"
   ]
  },
  {
   "cell_type": "markdown",
   "id": "fa500c75",
   "metadata": {},
   "source": [
    "(3) 缺失数据处理：删除销售数据和社保卡号为空的行。\n",
    "\n",
    "有两种办法：①删除缺失数据（dropna方法）；② 填充缺失数据（filina方法）。\n",
    "\n",
    "此处使用dropna直接删除缺失数据。\n",
    "\n",
    "dropna默认丢弃任何含有缺失值的行，即dropna()等价于dropna(axis=0,how='any')；\n",
    "\n",
    "若要丢弃列，则axis=1;how 参数可选的值为 any 或者 all，若要丢弃全为NA的行/列，则how='all';\n",
    "\n",
    "dropna还有一个参数-thresh，该参数的类型为整数，它的作用是，比如\n",
    "thresh=3，会在一行中至少有 3 个非 NA\n",
    "值时将其保留。dropna(axis=1,thresh=1),保留至少有1个非NA值的列。还可以通过dropna的参数subset移除指定列为空的数据。\n",
    "\n",
    "此处代码为："
   ]
  },
  {
   "cell_type": "code",
   "execution_count": 11,
   "id": "0ac1dd2a",
   "metadata": {},
   "outputs": [],
   "source": [
    "sales=sales.dropna(subset=['销售时间','社保卡号'],how='any')"
   ]
  },
  {
   "cell_type": "markdown",
   "id": "5b21b9b5",
   "metadata": {},
   "source": [
    "(4) 数据类型处理：\n",
    "\n",
    "因导入时均以‘object’类型导入，为便于计算，需要做类型转换。 "
   ]
  },
  {
   "cell_type": "code",
   "execution_count": 12,
   "id": "ffd81ded",
   "metadata": {},
   "outputs": [
    {
     "name": "stdout",
     "output_type": "stream",
     "text": [
      "转换后的数据类型为：\n",
      "\n"
     ]
    },
    {
     "data": {
      "text/plain": [
       "销售时间     object\n",
       "社保卡号     object\n",
       "商品编码     object\n",
       "商品名称     object\n",
       "销售数量    float64\n",
       "应收金额    float64\n",
       "实收金额    float64\n",
       "dtype: object"
      ]
     },
     "execution_count": 12,
     "metadata": {},
     "output_type": "execute_result"
    }
   ],
   "source": [
    "sales['销售数量']=sales['销售数量'].astype('float')\n",
    "sales['应收金额']=sales['应收金额'].astype('float')\n",
    "sales['实收金额']=sales['实收金额'].astype('float')\n",
    "print('转换后的数据类型为：\\n')\n",
    "sales.dtypes"
   ]
  },
  {
   "cell_type": "markdown",
   "id": "f41bd001",
   "metadata": {},
   "source": [
    "销售时间列格式现在为‘2018-01-01 星期五’，需先把日期和星期切分，然后转换为时间类型。"
   ]
  },
  {
   "cell_type": "code",
   "execution_count": 13,
   "id": "bbb60df0",
   "metadata": {},
   "outputs": [
    {
     "data": {
      "text/html": [
       "<div>\n",
       "<style scoped>\n",
       "    .dataframe tbody tr th:only-of-type {\n",
       "        vertical-align: middle;\n",
       "    }\n",
       "\n",
       "    .dataframe tbody tr th {\n",
       "        vertical-align: top;\n",
       "    }\n",
       "\n",
       "    .dataframe thead th {\n",
       "        text-align: right;\n",
       "    }\n",
       "</style>\n",
       "<table border=\"1\" class=\"dataframe\">\n",
       "  <thead>\n",
       "    <tr style=\"text-align: right;\">\n",
       "      <th></th>\n",
       "      <th>销售时间</th>\n",
       "      <th>社保卡号</th>\n",
       "      <th>商品编码</th>\n",
       "      <th>商品名称</th>\n",
       "      <th>销售数量</th>\n",
       "      <th>应收金额</th>\n",
       "      <th>实收金额</th>\n",
       "      <th>销售星期</th>\n",
       "    </tr>\n",
       "  </thead>\n",
       "  <tbody>\n",
       "    <tr>\n",
       "      <th>0</th>\n",
       "      <td>2018-01-01</td>\n",
       "      <td>001616528</td>\n",
       "      <td>236701</td>\n",
       "      <td>强力VC银翘片</td>\n",
       "      <td>6.0</td>\n",
       "      <td>82.8</td>\n",
       "      <td>69.00</td>\n",
       "      <td>星期五</td>\n",
       "    </tr>\n",
       "    <tr>\n",
       "      <th>1</th>\n",
       "      <td>2018-01-02</td>\n",
       "      <td>001616528</td>\n",
       "      <td>236701</td>\n",
       "      <td>清热解毒口服液</td>\n",
       "      <td>1.0</td>\n",
       "      <td>28.0</td>\n",
       "      <td>24.64</td>\n",
       "      <td>星期六</td>\n",
       "    </tr>\n",
       "    <tr>\n",
       "      <th>2</th>\n",
       "      <td>2018-01-06</td>\n",
       "      <td>0012602828</td>\n",
       "      <td>236701</td>\n",
       "      <td>感康</td>\n",
       "      <td>2.0</td>\n",
       "      <td>16.8</td>\n",
       "      <td>15.00</td>\n",
       "      <td>星期三</td>\n",
       "    </tr>\n",
       "    <tr>\n",
       "      <th>3</th>\n",
       "      <td>2018-01-11</td>\n",
       "      <td>0010070343428</td>\n",
       "      <td>236701</td>\n",
       "      <td>三九感冒灵</td>\n",
       "      <td>1.0</td>\n",
       "      <td>28.0</td>\n",
       "      <td>28.00</td>\n",
       "      <td>星期一</td>\n",
       "    </tr>\n",
       "    <tr>\n",
       "      <th>4</th>\n",
       "      <td>2018-01-15</td>\n",
       "      <td>00101554328</td>\n",
       "      <td>236701</td>\n",
       "      <td>三九感冒灵</td>\n",
       "      <td>8.0</td>\n",
       "      <td>224.0</td>\n",
       "      <td>208.00</td>\n",
       "      <td>星期五</td>\n",
       "    </tr>\n",
       "    <tr>\n",
       "      <th>...</th>\n",
       "      <td>...</td>\n",
       "      <td>...</td>\n",
       "      <td>...</td>\n",
       "      <td>...</td>\n",
       "      <td>...</td>\n",
       "      <td>...</td>\n",
       "      <td>...</td>\n",
       "      <td>...</td>\n",
       "    </tr>\n",
       "    <tr>\n",
       "      <th>6572</th>\n",
       "      <td>2018-04-27</td>\n",
       "      <td>0010060482828</td>\n",
       "      <td>2367011</td>\n",
       "      <td>高特灵</td>\n",
       "      <td>1.0</td>\n",
       "      <td>5.6</td>\n",
       "      <td>5.00</td>\n",
       "      <td>星期三</td>\n",
       "    </tr>\n",
       "    <tr>\n",
       "      <th>6573</th>\n",
       "      <td>2018-04-27</td>\n",
       "      <td>00107886128</td>\n",
       "      <td>2367011</td>\n",
       "      <td>高特灵</td>\n",
       "      <td>10.0</td>\n",
       "      <td>56.0</td>\n",
       "      <td>54.80</td>\n",
       "      <td>星期三</td>\n",
       "    </tr>\n",
       "    <tr>\n",
       "      <th>6575</th>\n",
       "      <td>2018-04-27</td>\n",
       "      <td>0010087865628</td>\n",
       "      <td>2367011</td>\n",
       "      <td>高特灵</td>\n",
       "      <td>2.0</td>\n",
       "      <td>11.2</td>\n",
       "      <td>9.86</td>\n",
       "      <td>星期三</td>\n",
       "    </tr>\n",
       "    <tr>\n",
       "      <th>6576</th>\n",
       "      <td>2018-04-27</td>\n",
       "      <td>0013406628</td>\n",
       "      <td>2367011</td>\n",
       "      <td>高特灵</td>\n",
       "      <td>1.0</td>\n",
       "      <td>5.6</td>\n",
       "      <td>5.00</td>\n",
       "      <td>星期三</td>\n",
       "    </tr>\n",
       "    <tr>\n",
       "      <th>6577</th>\n",
       "      <td>2018-04-28</td>\n",
       "      <td>0011926928</td>\n",
       "      <td>2367011</td>\n",
       "      <td>高特灵</td>\n",
       "      <td>2.0</td>\n",
       "      <td>11.2</td>\n",
       "      <td>10.00</td>\n",
       "      <td>星期四</td>\n",
       "    </tr>\n",
       "  </tbody>\n",
       "</table>\n",
       "<p>6575 rows × 8 columns</p>\n",
       "</div>"
      ],
      "text/plain": [
       "            销售时间           社保卡号     商品编码     商品名称  销售数量   应收金额    实收金额 销售星期\n",
       "0     2018-01-01      001616528   236701  强力VC银翘片   6.0   82.8   69.00  星期五\n",
       "1     2018-01-02      001616528   236701  清热解毒口服液   1.0   28.0   24.64  星期六\n",
       "2     2018-01-06     0012602828   236701       感康   2.0   16.8   15.00  星期三\n",
       "3     2018-01-11  0010070343428   236701    三九感冒灵   1.0   28.0   28.00  星期一\n",
       "4     2018-01-15    00101554328   236701    三九感冒灵   8.0  224.0  208.00  星期五\n",
       "...          ...            ...      ...      ...   ...    ...     ...  ...\n",
       "6572  2018-04-27  0010060482828  2367011      高特灵   1.0    5.6    5.00  星期三\n",
       "6573  2018-04-27    00107886128  2367011      高特灵  10.0   56.0   54.80  星期三\n",
       "6575  2018-04-27  0010087865628  2367011      高特灵   2.0   11.2    9.86  星期三\n",
       "6576  2018-04-27     0013406628  2367011      高特灵   1.0    5.6    5.00  星期三\n",
       "6577  2018-04-28     0011926928  2367011      高特灵   2.0   11.2   10.00  星期四\n",
       "\n",
       "[6575 rows x 8 columns]"
      ]
     },
     "execution_count": 13,
     "metadata": {},
     "output_type": "execute_result"
    }
   ],
   "source": [
    "st = sales['销售时间'].str.split(' ', n=1)\n",
    "sales['销售时间'], sales['销售星期'] = st.str[0], st.str[1]\n",
    "sales"
   ]
  },
  {
   "cell_type": "markdown",
   "id": "0368ba33",
   "metadata": {},
   "source": [
    "若需要查看文件有多少行多少列，可用以下代码："
   ]
  },
  {
   "cell_type": "markdown",
   "id": "746bbc15",
   "metadata": {},
   "source": [
    "切分好之后，把销售时间变为时间类型。以下代码中，erros='coerce'如果原始数据不符合日期的格式，转换后的值会变为NAT。format是原始数据的日期格式。"
   ]
  },
  {
   "cell_type": "code",
   "execution_count": 14,
   "id": "8fc8b12f",
   "metadata": {},
   "outputs": [
    {
     "data": {
      "text/plain": [
       "销售时间    datetime64[ns]\n",
       "社保卡号            object\n",
       "商品编码            object\n",
       "商品名称            object\n",
       "销售数量           float64\n",
       "应收金额           float64\n",
       "实收金额           float64\n",
       "销售星期            object\n",
       "dtype: object"
      ]
     },
     "execution_count": 14,
     "metadata": {},
     "output_type": "execute_result"
    }
   ],
   "source": [
    "sales.loc[:,'销售时间']=pd.to_datetime(sales.loc[:,'销售时间'],format='%Y-%m-%d',errors='coerce')\n",
    "sales.dtypes"
   ]
  },
  {
   "cell_type": "markdown",
   "id": "69eb11f6",
   "metadata": {},
   "source": [
    "（5）排序\n",
    "\n",
    "时间一列现在是无序排列的，需要排序一下，排序之后索引会被打乱，所以也需要重置一下索引。\n",
    "\n",
    "如下为按照销售日期进行升序排列，代码中，对数据按照时间排序，by:按那几列排序；ascending=True 表示升序排列；ascending=False表示降序排列。"
   ]
  },
  {
   "cell_type": "code",
   "execution_count": 15,
   "id": "e587b7fc",
   "metadata": {},
   "outputs": [
    {
     "name": "stdout",
     "output_type": "stream",
     "text": [
      "排序后的数据集为：\n",
      "\n"
     ]
    },
    {
     "data": {
      "text/html": [
       "<div>\n",
       "<style scoped>\n",
       "    .dataframe tbody tr th:only-of-type {\n",
       "        vertical-align: middle;\n",
       "    }\n",
       "\n",
       "    .dataframe tbody tr th {\n",
       "        vertical-align: top;\n",
       "    }\n",
       "\n",
       "    .dataframe thead th {\n",
       "        text-align: right;\n",
       "    }\n",
       "</style>\n",
       "<table border=\"1\" class=\"dataframe\">\n",
       "  <thead>\n",
       "    <tr style=\"text-align: right;\">\n",
       "      <th></th>\n",
       "      <th>销售时间</th>\n",
       "      <th>社保卡号</th>\n",
       "      <th>商品编码</th>\n",
       "      <th>商品名称</th>\n",
       "      <th>销售数量</th>\n",
       "      <th>应收金额</th>\n",
       "      <th>实收金额</th>\n",
       "      <th>销售星期</th>\n",
       "    </tr>\n",
       "  </thead>\n",
       "  <tbody>\n",
       "    <tr>\n",
       "      <th>0</th>\n",
       "      <td>2018-01-01</td>\n",
       "      <td>001616528</td>\n",
       "      <td>236701</td>\n",
       "      <td>强力VC银翘片</td>\n",
       "      <td>6.0</td>\n",
       "      <td>82.8</td>\n",
       "      <td>69.0</td>\n",
       "      <td>星期五</td>\n",
       "    </tr>\n",
       "    <tr>\n",
       "      <th>1475</th>\n",
       "      <td>2018-01-01</td>\n",
       "      <td>00107891628</td>\n",
       "      <td>861456</td>\n",
       "      <td>酒石酸美托洛尔片(倍他乐克)</td>\n",
       "      <td>2.0</td>\n",
       "      <td>14.0</td>\n",
       "      <td>12.6</td>\n",
       "      <td>星期五</td>\n",
       "    </tr>\n",
       "    <tr>\n",
       "      <th>1306</th>\n",
       "      <td>2018-01-01</td>\n",
       "      <td>001616528</td>\n",
       "      <td>861417</td>\n",
       "      <td>雷米普利片(瑞素坦)</td>\n",
       "      <td>1.0</td>\n",
       "      <td>28.5</td>\n",
       "      <td>28.5</td>\n",
       "      <td>星期五</td>\n",
       "    </tr>\n",
       "    <tr>\n",
       "      <th>3859</th>\n",
       "      <td>2018-01-01</td>\n",
       "      <td>0010073966328</td>\n",
       "      <td>866634</td>\n",
       "      <td>硝苯地平控释片(欣然)</td>\n",
       "      <td>6.0</td>\n",
       "      <td>111.0</td>\n",
       "      <td>92.5</td>\n",
       "      <td>星期五</td>\n",
       "    </tr>\n",
       "    <tr>\n",
       "      <th>3888</th>\n",
       "      <td>2018-01-01</td>\n",
       "      <td>0010014289328</td>\n",
       "      <td>866851</td>\n",
       "      <td>缬沙坦分散片(易达乐)</td>\n",
       "      <td>1.0</td>\n",
       "      <td>26.0</td>\n",
       "      <td>23.0</td>\n",
       "      <td>星期五</td>\n",
       "    </tr>\n",
       "  </tbody>\n",
       "</table>\n",
       "</div>"
      ],
      "text/plain": [
       "           销售时间           社保卡号    商品编码            商品名称  销售数量   应收金额  实收金额 销售星期\n",
       "0    2018-01-01      001616528  236701         强力VC银翘片   6.0   82.8  69.0  星期五\n",
       "1475 2018-01-01    00107891628  861456  酒石酸美托洛尔片(倍他乐克)   2.0   14.0  12.6  星期五\n",
       "1306 2018-01-01      001616528  861417      雷米普利片(瑞素坦)   1.0   28.5  28.5  星期五\n",
       "3859 2018-01-01  0010073966328  866634     硝苯地平控释片(欣然)   6.0  111.0  92.5  星期五\n",
       "3888 2018-01-01  0010014289328  866851     缬沙坦分散片(易达乐)   1.0   26.0  23.0  星期五"
      ]
     },
     "execution_count": 15,
     "metadata": {},
     "output_type": "execute_result"
    }
   ],
   "source": [
    "sales=sales.sort_values(by='销售时间',ascending=True) \n",
    "print('排序后的数据集为：\\n')\n",
    "sales.head()"
   ]
  },
  {
   "cell_type": "markdown",
   "id": "badf0d08",
   "metadata": {},
   "source": [
    "排序之后再重置一下index。其中代码中drop=True会舍弃原有的index，drop默认等于’Fales‘，保留原索引，增加一列新的索引。 "
   ]
  },
  {
   "cell_type": "markdown",
   "id": "34daa29f",
   "metadata": {},
   "source": [
    "6、异常值处理\n",
    "\n",
    "排序后，查看每一列的描述统计信息"
   ]
  },
  {
   "cell_type": "code",
   "execution_count": 16,
   "id": "11f3ccd9",
   "metadata": {},
   "outputs": [
    {
     "data": {
      "text/html": [
       "<div>\n",
       "<style scoped>\n",
       "    .dataframe tbody tr th:only-of-type {\n",
       "        vertical-align: middle;\n",
       "    }\n",
       "\n",
       "    .dataframe tbody tr th {\n",
       "        vertical-align: top;\n",
       "    }\n",
       "\n",
       "    .dataframe thead th {\n",
       "        text-align: right;\n",
       "    }\n",
       "</style>\n",
       "<table border=\"1\" class=\"dataframe\">\n",
       "  <thead>\n",
       "    <tr style=\"text-align: right;\">\n",
       "      <th></th>\n",
       "      <th>销售数量</th>\n",
       "      <th>应收金额</th>\n",
       "      <th>实收金额</th>\n",
       "    </tr>\n",
       "  </thead>\n",
       "  <tbody>\n",
       "    <tr>\n",
       "      <th>count</th>\n",
       "      <td>6575.000000</td>\n",
       "      <td>6575.000000</td>\n",
       "      <td>6575.000000</td>\n",
       "    </tr>\n",
       "    <tr>\n",
       "      <th>mean</th>\n",
       "      <td>2.385095</td>\n",
       "      <td>50.478935</td>\n",
       "      <td>46.321582</td>\n",
       "    </tr>\n",
       "    <tr>\n",
       "      <th>std</th>\n",
       "      <td>2.373702</td>\n",
       "      <td>87.607883</td>\n",
       "      <td>80.987682</td>\n",
       "    </tr>\n",
       "    <tr>\n",
       "      <th>min</th>\n",
       "      <td>-10.000000</td>\n",
       "      <td>-374.000000</td>\n",
       "      <td>-374.000000</td>\n",
       "    </tr>\n",
       "    <tr>\n",
       "      <th>25%</th>\n",
       "      <td>1.000000</td>\n",
       "      <td>14.000000</td>\n",
       "      <td>12.320000</td>\n",
       "    </tr>\n",
       "    <tr>\n",
       "      <th>50%</th>\n",
       "      <td>2.000000</td>\n",
       "      <td>28.000000</td>\n",
       "      <td>26.600000</td>\n",
       "    </tr>\n",
       "    <tr>\n",
       "      <th>75%</th>\n",
       "      <td>2.000000</td>\n",
       "      <td>59.600000</td>\n",
       "      <td>53.000000</td>\n",
       "    </tr>\n",
       "    <tr>\n",
       "      <th>max</th>\n",
       "      <td>50.000000</td>\n",
       "      <td>2950.000000</td>\n",
       "      <td>2650.000000</td>\n",
       "    </tr>\n",
       "  </tbody>\n",
       "</table>\n",
       "</div>"
      ],
      "text/plain": [
       "              销售数量         应收金额         实收金额\n",
       "count  6575.000000  6575.000000  6575.000000\n",
       "mean      2.385095    50.478935    46.321582\n",
       "std       2.373702    87.607883    80.987682\n",
       "min     -10.000000  -374.000000  -374.000000\n",
       "25%       1.000000    14.000000    12.320000\n",
       "50%       2.000000    28.000000    26.600000\n",
       "75%       2.000000    59.600000    53.000000\n",
       "max      50.000000  2950.000000  2650.000000"
      ]
     },
     "execution_count": 16,
     "metadata": {},
     "output_type": "execute_result"
    }
   ],
   "source": [
    "sales.describe()"
   ]
  },
  {
   "cell_type": "markdown",
   "id": "115fa483",
   "metadata": {},
   "source": [
    "销售数量不可能小于0。所以需去除小于0的值。"
   ]
  },
  {
   "cell_type": "code",
   "execution_count": 17,
   "id": "0855c47c",
   "metadata": {},
   "outputs": [],
   "source": [
    "sales=sales.loc[sales.销售数量>0,:] "
   ]
  },
  {
   "cell_type": "markdown",
   "id": "30cda76d",
   "metadata": {},
   "source": [
    "然后打印结果看下是否还有异常值："
   ]
  },
  {
   "cell_type": "code",
   "execution_count": 18,
   "id": "f57e3ebc",
   "metadata": {},
   "outputs": [
    {
     "data": {
      "text/html": [
       "<div>\n",
       "<style scoped>\n",
       "    .dataframe tbody tr th:only-of-type {\n",
       "        vertical-align: middle;\n",
       "    }\n",
       "\n",
       "    .dataframe tbody tr th {\n",
       "        vertical-align: top;\n",
       "    }\n",
       "\n",
       "    .dataframe thead th {\n",
       "        text-align: right;\n",
       "    }\n",
       "</style>\n",
       "<table border=\"1\" class=\"dataframe\">\n",
       "  <thead>\n",
       "    <tr style=\"text-align: right;\">\n",
       "      <th></th>\n",
       "      <th>销售数量</th>\n",
       "      <th>应收金额</th>\n",
       "      <th>实收金额</th>\n",
       "    </tr>\n",
       "  </thead>\n",
       "  <tbody>\n",
       "    <tr>\n",
       "      <th>count</th>\n",
       "      <td>6532.000000</td>\n",
       "      <td>6532.000000</td>\n",
       "      <td>6532.000000</td>\n",
       "    </tr>\n",
       "    <tr>\n",
       "      <th>mean</th>\n",
       "      <td>2.406154</td>\n",
       "      <td>50.956047</td>\n",
       "      <td>46.763345</td>\n",
       "    </tr>\n",
       "    <tr>\n",
       "      <th>std</th>\n",
       "      <td>2.363061</td>\n",
       "      <td>87.561159</td>\n",
       "      <td>80.926505</td>\n",
       "    </tr>\n",
       "    <tr>\n",
       "      <th>min</th>\n",
       "      <td>1.000000</td>\n",
       "      <td>1.200000</td>\n",
       "      <td>0.030000</td>\n",
       "    </tr>\n",
       "    <tr>\n",
       "      <th>25%</th>\n",
       "      <td>1.000000</td>\n",
       "      <td>14.000000</td>\n",
       "      <td>12.600000</td>\n",
       "    </tr>\n",
       "    <tr>\n",
       "      <th>50%</th>\n",
       "      <td>2.000000</td>\n",
       "      <td>28.000000</td>\n",
       "      <td>27.000000</td>\n",
       "    </tr>\n",
       "    <tr>\n",
       "      <th>75%</th>\n",
       "      <td>2.000000</td>\n",
       "      <td>59.600000</td>\n",
       "      <td>53.000000</td>\n",
       "    </tr>\n",
       "    <tr>\n",
       "      <th>max</th>\n",
       "      <td>50.000000</td>\n",
       "      <td>2950.000000</td>\n",
       "      <td>2650.000000</td>\n",
       "    </tr>\n",
       "  </tbody>\n",
       "</table>\n",
       "</div>"
      ],
      "text/plain": [
       "              销售数量         应收金额         实收金额\n",
       "count  6532.000000  6532.000000  6532.000000\n",
       "mean      2.406154    50.956047    46.763345\n",
       "std       2.363061    87.561159    80.926505\n",
       "min       1.000000     1.200000     0.030000\n",
       "25%       1.000000    14.000000    12.600000\n",
       "50%       2.000000    28.000000    27.000000\n",
       "75%       2.000000    59.600000    53.000000\n",
       "max      50.000000  2950.000000  2650.000000"
      ]
     },
     "execution_count": 18,
     "metadata": {},
     "output_type": "execute_result"
    }
   ],
   "source": [
    "sales.describe()"
   ]
  },
  {
   "cell_type": "markdown",
   "id": "dc13661b",
   "metadata": {},
   "source": [
    "完成上述步骤，基本的数据清洗工作完成，接下来对数据进行分析。"
   ]
  },
  {
   "cell_type": "markdown",
   "id": "ef8ead4c",
   "metadata": {},
   "source": [
    "### 四、构建模型\n",
    "现在针对最开始提出的问题，运用不同的分析方法进行解决。\n",
    "\n",
    "（1）月均消费次数：等于总消费次数 / 月份数\n",
    "\n",
    "在此约定，总消费次数：同一天内，同一个人发生的所有消费算作一次消费。\n",
    "根据列名（销售时间，社区卡号），如果这两个列值同时相同，只保留一条，将重复的数据删除。\n",
    "总消费次数如下，即subsales有多少行信息："
   ]
  },
  {
   "cell_type": "code",
   "execution_count": 19,
   "id": "11070341",
   "metadata": {},
   "outputs": [
    {
     "name": "stdout",
     "output_type": "stream",
     "text": [
      "5363\n"
     ]
    }
   ],
   "source": [
    "subsales=sales.drop_duplicates(subset=['销售时间','社保卡号'])\n",
    "total=subsales.shape[0]  \n",
    "print(total)"
   ]
  },
  {
   "cell_type": "markdown",
   "id": "e1124dfa",
   "metadata": {},
   "source": [
    "计算月份数"
   ]
  },
  {
   "cell_type": "code",
   "execution_count": 20,
   "id": "665bea6e",
   "metadata": {},
   "outputs": [],
   "source": [
    "month=(subsales['销售时间'].max()-subsales['销售时间'].min()).days//30"
   ]
  },
  {
   "cell_type": "markdown",
   "id": "463cf3c6",
   "metadata": {},
   "source": [
    "计算月均消费次数"
   ]
  },
  {
   "cell_type": "code",
   "execution_count": 21,
   "id": "a791235a",
   "metadata": {},
   "outputs": [
    {
     "name": "stdout",
     "output_type": "stream",
     "text": [
      "月均消费次数为： 893.83\n"
     ]
    }
   ],
   "source": [
    "t1=total/month\n",
    "print('月均消费次数为：','%.2f'%t1)"
   ]
  },
  {
   "cell_type": "markdown",
   "id": "6a1e7da2",
   "metadata": {},
   "source": [
    "（2） 月均消费金额：等于总消费金额/月份数。在计算总金额的时候不能去重，需要都计算上金额。"
   ]
  },
  {
   "cell_type": "code",
   "execution_count": 22,
   "id": "b8decdb4",
   "metadata": {},
   "outputs": [
    {
     "name": "stdout",
     "output_type": "stream",
     "text": [
      "月均消费金额为： 50909.69\n"
     ]
    }
   ],
   "source": [
    "total1=sales['实收金额'].sum()\n",
    "t2=total1/month\n",
    "print('月均消费金额为：','%.2f'%t2)"
   ]
  },
  {
   "cell_type": "markdown",
   "id": "e3b807af",
   "metadata": {},
   "source": [
    "（3） 客单价：等于总消费金额/总消费次数"
   ]
  },
  {
   "cell_type": "code",
   "execution_count": 23,
   "id": "a097d649",
   "metadata": {},
   "outputs": [
    {
     "name": "stdout",
     "output_type": "stream",
     "text": [
      "客单价为： 56.96\n"
     ]
    }
   ],
   "source": [
    "t3=total1/total\n",
    "print('客单价为：','%.2f'%t3)"
   ]
  },
  {
   "cell_type": "markdown",
   "id": "b43d5f8a",
   "metadata": {},
   "source": [
    "（4）消费趋势\n",
    "\n",
    "要了解消费趋势，我们先根据时间的不同，了解下消费金额的大体变化。\n",
    "\n",
    "需要对去重后的数据按照天进行重新采样，首先要把索引变成时间："
   ]
  },
  {
   "cell_type": "code",
   "execution_count": 24,
   "id": "1cd0ebdb",
   "metadata": {},
   "outputs": [],
   "source": [
    "sales.index = pd.DatetimeIndex(sales['销售时间'])"
   ]
  },
  {
   "cell_type": "markdown",
   "id": "94fdb982",
   "metadata": {},
   "source": [
    "以下为按日采样："
   ]
  },
  {
   "cell_type": "code",
   "execution_count": 25,
   "id": "c63d8e9f",
   "metadata": {},
   "outputs": [
    {
     "data": {
      "image/png": "[encoded data removed]",
      "text/plain": [
       "<Figure size 432x288 with 1 Axes>"
      ]
     },
     "metadata": {
      "needs_background": "light"
     },
     "output_type": "display_data"
    }
   ],
   "source": [
    "salesdays=sales.resample('D').count()   \n",
    "salesdays.plot(use_index=True,y='实收金额')\n",
    "plt.xlabel('时间')\n",
    "plt.ylabel('金额')\n",
    "plt.title('消费趋势')\n",
    "plt.show()"
   ]
  },
  {
   "cell_type": "markdown",
   "id": "2721cbf2",
   "metadata": {},
   "source": [
    "这样我们对每天的消费数据有一个大体的掌握，然后按月采样看下每个月的总销售额是否有很大的差异。\n",
    "\n",
    "以下为按月采样："
   ]
  },
  {
   "cell_type": "code",
   "execution_count": 26,
   "id": "cbf7d1fb",
   "metadata": {},
   "outputs": [
    {
     "data": {
      "text/html": [
       "<div>\n",
       "<style scoped>\n",
       "    .dataframe tbody tr th:only-of-type {\n",
       "        vertical-align: middle;\n",
       "    }\n",
       "\n",
       "    .dataframe tbody tr th {\n",
       "        vertical-align: top;\n",
       "    }\n",
       "\n",
       "    .dataframe thead th {\n",
       "        text-align: right;\n",
       "    }\n",
       "</style>\n",
       "<table border=\"1\" class=\"dataframe\">\n",
       "  <thead>\n",
       "    <tr style=\"text-align: right;\">\n",
       "      <th></th>\n",
       "      <th>销售数量</th>\n",
       "      <th>应收金额</th>\n",
       "      <th>实收金额</th>\n",
       "    </tr>\n",
       "    <tr>\n",
       "      <th>销售时间</th>\n",
       "      <th></th>\n",
       "      <th></th>\n",
       "      <th></th>\n",
       "    </tr>\n",
       "  </thead>\n",
       "  <tbody>\n",
       "    <tr>\n",
       "      <th>2018-01-31</th>\n",
       "      <td>2527.0</td>\n",
       "      <td>53561.6</td>\n",
       "      <td>49461.19</td>\n",
       "    </tr>\n",
       "    <tr>\n",
       "      <th>2018-02-28</th>\n",
       "      <td>1858.0</td>\n",
       "      <td>42028.8</td>\n",
       "      <td>38790.38</td>\n",
       "    </tr>\n",
       "    <tr>\n",
       "      <th>2018-03-31</th>\n",
       "      <td>2225.0</td>\n",
       "      <td>45318.0</td>\n",
       "      <td>41597.51</td>\n",
       "    </tr>\n",
       "    <tr>\n",
       "      <th>2018-04-30</th>\n",
       "      <td>3010.0</td>\n",
       "      <td>54324.3</td>\n",
       "      <td>48812.70</td>\n",
       "    </tr>\n",
       "    <tr>\n",
       "      <th>2018-05-31</th>\n",
       "      <td>2225.0</td>\n",
       "      <td>51263.4</td>\n",
       "      <td>46925.27</td>\n",
       "    </tr>\n",
       "  </tbody>\n",
       "</table>\n",
       "</div>"
      ],
      "text/plain": [
       "              销售数量     应收金额      实收金额\n",
       "销售时间                                 \n",
       "2018-01-31  2527.0  53561.6  49461.19\n",
       "2018-02-28  1858.0  42028.8  38790.38\n",
       "2018-03-31  2225.0  45318.0  41597.51\n",
       "2018-04-30  3010.0  54324.3  48812.70\n",
       "2018-05-31  2225.0  51263.4  46925.27"
      ]
     },
     "execution_count": 26,
     "metadata": {},
     "output_type": "execute_result"
    }
   ],
   "source": [
    "salesm = sales.resample('M').sum()   \n",
    "#sum()会为取样的数值数据按月进行求和，打印出来如下：\n",
    "salesm.head()"
   ]
  },
  {
   "cell_type": "code",
   "execution_count": 27,
   "id": "ec6c9a8e",
   "metadata": {},
   "outputs": [
    {
     "data": {
      "image/png": "[encoded data removed]",
      "text/plain": [
       "<Figure size 432x288 with 1 Axes>"
      ]
     },
     "metadata": {
      "needs_background": "light"
     },
     "output_type": "display_data"
    }
   ],
   "source": [
    "salesm.plot(use_index=True, y = '实收金额')\n",
    "plt.xlabel('时间')\n",
    "plt.ylabel('月份')\n",
    "plt.title('销售趋势（每月）')\n",
    "plt.show()"
   ]
  },
  {
   "cell_type": "markdown",
   "id": "915a66dc",
   "metadata": {},
   "source": [
    "了解下月均的客流量"
   ]
  },
  {
   "cell_type": "code",
   "execution_count": 28,
   "id": "38a382b8",
   "metadata": {},
   "outputs": [
    {
     "data": {
      "image/png": "[encoded data removed]",
      "text/plain": [
       "<Figure size 432x288 with 1 Axes>"
      ]
     },
     "metadata": {
      "needs_background": "light"
     },
     "output_type": "display_data"
    }
   ],
   "source": [
    "salesm = sales.resample('M').count()\n",
    "salesm.plot(use_index=True, y = '实收金额')\n",
    "plt.xlabel('时间')\n",
    "plt.ylabel('客户')\n",
    "plt.title('客户流量（每月）')\n",
    "plt.show() "
   ]
  },
  {
   "cell_type": "markdown",
   "id": "702a93fc",
   "metadata": {},
   "source": [
    "这时候可以看出，医院的销售总额和客流量基本成正比。但六月数据较异常，可能该月份人均客单价提升所致。具体问题还需在具体分析。以上仅提供分析思路参考。"
   ]
  }
 ],
 "metadata": {
  "kernelspec": {
   "display_name": "conda_python3",
   "language": "python",
   "name": "conda_python3"
  },
  "language_info": {
   "codemirror_mode": {
    "name": "ipython",
    "version": 3
   },
   "file_extension": ".py",
   "mimetype": "text/x-python",
   "name": "python",
   "nbconvert_exporter": "python",
   "pygments_lexer": "ipython3",
   "version": "3.8.12"
  }
 },
 "nbformat": 4,
 "nbformat_minor": 5
}
